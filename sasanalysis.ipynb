{
 "cells": [
  {
   "cell_type": "code",
   "execution_count": 2,
   "metadata": {},
   "outputs": [],
   "source": [
    "import saspy \n",
    "import pandas as pd"
   ]
  },
  {
   "cell_type": "code",
   "execution_count": 3,
   "metadata": {},
   "outputs": [
    {
     "ename": "SASIONotSupportedError",
     "evalue": "Cannot use STDIO I/O module on Windows. Try the following: IOM\n\nPlease refer to the Configuration Instructions in the SASPy Documentation at https://sassoftware.github.io/saspy/configuration\nYou can also look for the error you've recieved in the Troublshooting guide at https://sassoftware.github.io/saspy/troubleshooting\nIf you need more help, please open an Issue on the SASPy GitHub site at https://github.com/sassoftware/saspy/issues",
     "output_type": "error",
     "traceback": [
      "\u001b[1;31m---------------------------------------------------------------------------\u001b[0m",
      "\u001b[1;31mSASIONotSupportedError\u001b[0m                    Traceback (most recent call last)",
      "Cell \u001b[1;32mIn[3], line 1\u001b[0m\n\u001b[1;32m----> 1\u001b[0m sas \u001b[38;5;241m=\u001b[39m saspy\u001b[38;5;241m.\u001b[39mSASsession(cfgname \u001b[38;5;241m=\u001b[39m \u001b[38;5;124m'\u001b[39m\u001b[38;5;124mdefault\u001b[39m\u001b[38;5;124m'\u001b[39m)\n",
      "File \u001b[1;32mc:\\Users\\ekxiang\\AppData\\Local\\anaconda3\\Lib\\site-packages\\saspy\\sasbase.py:591\u001b[0m, in \u001b[0;36mSASsession.__init__\u001b[1;34m(self, **kwargs)\u001b[0m\n\u001b[0;32m    589\u001b[0m         \u001b[38;5;28mself\u001b[39m\u001b[38;5;241m.\u001b[39m_io \u001b[38;5;241m=\u001b[39m SASsessionSTDIO(sascfgname\u001b[38;5;241m=\u001b[39m\u001b[38;5;28mself\u001b[39m\u001b[38;5;241m.\u001b[39msascfg\u001b[38;5;241m.\u001b[39mname, sb\u001b[38;5;241m=\u001b[39m\u001b[38;5;28mself\u001b[39m, \u001b[38;5;241m*\u001b[39m\u001b[38;5;241m*\u001b[39mkwargs)\n\u001b[0;32m    590\u001b[0m     \u001b[38;5;28;01melse\u001b[39;00m:\n\u001b[1;32m--> 591\u001b[0m         \u001b[38;5;28;01mraise\u001b[39;00m SASIONotSupportedError(\u001b[38;5;28mself\u001b[39m\u001b[38;5;241m.\u001b[39msascfg\u001b[38;5;241m.\u001b[39mmode, alts\u001b[38;5;241m=\u001b[39m[\u001b[38;5;124m'\u001b[39m\u001b[38;5;124mIOM\u001b[39m\u001b[38;5;124m'\u001b[39m])\n\u001b[0;32m    592\u001b[0m \u001b[38;5;28;01melif\u001b[39;00m \u001b[38;5;28mself\u001b[39m\u001b[38;5;241m.\u001b[39msascfg\u001b[38;5;241m.\u001b[39mmode \u001b[38;5;241m==\u001b[39m \u001b[38;5;124m'\u001b[39m\u001b[38;5;124mIOM\u001b[39m\u001b[38;5;124m'\u001b[39m:\n\u001b[0;32m    593\u001b[0m     \u001b[38;5;28mself\u001b[39m\u001b[38;5;241m.\u001b[39m_io \u001b[38;5;241m=\u001b[39m SASsessionIOM(sascfgname\u001b[38;5;241m=\u001b[39m\u001b[38;5;28mself\u001b[39m\u001b[38;5;241m.\u001b[39msascfg\u001b[38;5;241m.\u001b[39mname, sb\u001b[38;5;241m=\u001b[39m\u001b[38;5;28mself\u001b[39m, \u001b[38;5;241m*\u001b[39m\u001b[38;5;241m*\u001b[39mkwargs)\n",
      "\u001b[1;31mSASIONotSupportedError\u001b[0m: Cannot use STDIO I/O module on Windows. Try the following: IOM\n\nPlease refer to the Configuration Instructions in the SASPy Documentation at https://sassoftware.github.io/saspy/configuration\nYou can also look for the error you've recieved in the Troublshooting guide at https://sassoftware.github.io/saspy/troubleshooting\nIf you need more help, please open an Issue on the SASPy GitHub site at https://github.com/sassoftware/saspy/issues"
     ]
    }
   ],
   "source": [
    "sas = saspy.SASsession(cfgname = 'default')"
   ]
  },
  {
   "cell_type": "code",
   "execution_count": null,
   "metadata": {},
   "outputs": [],
   "source": [
    "bdnf_pd = pd.read_csv('BDNF_Concentrations_all_07.19.csv')\n",
    "bdnf = saspy.df2sd(bdnf_pd)"
   ]
  },
  {
   "cell_type": "code",
   "execution_count": null,
   "metadata": {},
   "outputs": [],
   "source": [
    "bdnf.head()\n",
    "bdnf.hist('Timepoint')"
   ]
  },
  {
   "cell_type": "code",
   "execution_count": null,
   "metadata": {},
   "outputs": [],
   "source": []
  }
 ],
 "metadata": {
  "kernelspec": {
   "display_name": "base",
   "language": "python",
   "name": "python3"
  },
  "language_info": {
   "codemirror_mode": {
    "name": "ipython",
    "version": 3
   },
   "file_extension": ".py",
   "mimetype": "text/x-python",
   "name": "python",
   "nbconvert_exporter": "python",
   "pygments_lexer": "ipython3",
   "version": "3.12.4"
  }
 },
 "nbformat": 4,
 "nbformat_minor": 2
}
